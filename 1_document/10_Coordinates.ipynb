{
 "cells": [
  {
   "cell_type": "markdown",
   "metadata": {},
   "source": [
    "# Coordinates in the DOM"
   ]
  },
  {
   "cell_type": "markdown",
   "metadata": {},
   "source": [
    "## Window-Relative Coordinates\n",
    "\n",
    "Use getBoundingClientRect().\n",
    "\n",
    "Suitable for position: fixed."
   ]
  },
  {
   "cell_type": "markdown",
   "metadata": {},
   "source": [
    "## Document-Relative Coordinates\n",
    "\n",
    "Use getBoundingClientRect() plus the current scroll (window.pageXOffset/pageYOffset).\n",
    "\n",
    "Suitable for position: absolute."
   ]
  },
  {
   "cell_type": "markdown",
   "metadata": {},
   "source": [
    "## Difference Between JS Coordinates and CSS Positioning"
   ]
  },
  {
   "cell_type": "markdown",
   "metadata": {},
   "source": [
    "## Finding an Element at Specific Coordinates Using ```elementFromPoint```"
   ]
  },
  {
   "cell_type": "markdown",
   "metadata": {},
   "source": [
    "## Using Coordinates for Positioning"
   ]
  }
 ],
 "metadata": {
  "language_info": {
   "name": "python"
  }
 },
 "nbformat": 4,
 "nbformat_minor": 2
}
