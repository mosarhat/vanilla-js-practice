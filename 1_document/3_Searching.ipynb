{
 "cells": [
  {
   "cell_type": "markdown",
   "metadata": {},
   "source": [
    "# Searching"
   ]
  },
  {
   "cell_type": "markdown",
   "metadata": {},
   "source": [
    "## ```document.getElementById```\n",
    "\n",
    "Purpose:\n",
    "\n",
    "Syntax:\n",
    "\n",
    "Returns:\n",
    "\n",
    "Key Points:"
   ]
  },
  {
   "cell_type": "markdown",
   "metadata": {},
   "source": [
    "## ```querySelector```\n",
    "\n",
    "Purpose:\n",
    "\n",
    "Syntax:\n",
    "\n",
    "Returns:\n",
    "\n",
    "Key Points:"
   ]
  },
  {
   "cell_type": "markdown",
   "metadata": {},
   "source": [
    "## ```querySelectorAll```\n",
    "\n",
    "Purpose:\n",
    "\n",
    "Syntax:\n",
    "\n",
    "Returns:\n",
    "\n",
    "Key Points:"
   ]
  },
  {
   "cell_type": "markdown",
   "metadata": {},
   "source": [
    "## ```matches```\n",
    "\n",
    "Purpose:\n",
    "\n",
    "Syntax:\n",
    "\n",
    "Returns:\n",
    "\n",
    "Key Points:"
   ]
  },
  {
   "cell_type": "markdown",
   "metadata": {},
   "source": [
    "## ```closest```\n",
    "\n",
    "Purpose:\n",
    "\n",
    "Syntax:\n",
    "\n",
    "Returns:\n",
    "\n",
    "Key Points:"
   ]
  },
  {
   "cell_type": "markdown",
   "metadata": {},
   "source": [
    "## ```getElementsByTagName```\n",
    "\n",
    "Purpose:\n",
    "\n",
    "Syntax:\n",
    "\n",
    "Returns:\n",
    "\n",
    "Key Points:"
   ]
  },
  {
   "cell_type": "markdown",
   "metadata": {},
   "source": [
    "## ```getElementsByClassName```\n",
    "\n",
    "Purpose:\n",
    "\n",
    "Syntax:\n",
    "\n",
    "Returns:\n",
    "\n",
    "Key Points:"
   ]
  },
  {
   "cell_type": "markdown",
   "metadata": {},
   "source": [
    "## ```getElementsByName```\n",
    "\n",
    "Purpose:\n",
    "\n",
    "Syntax:\n",
    "\n",
    "Returns:\n",
    "\n",
    "Key Points:"
   ]
  }
 ],
 "metadata": {
  "language_info": {
   "name": "python"
  }
 },
 "nbformat": 4,
 "nbformat_minor": 2
}
